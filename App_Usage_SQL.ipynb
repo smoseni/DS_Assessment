{
 "cells": [
  {
   "cell_type": "markdown",
   "id": "9b332b53-db46-4ed0-9dc7-480aa480e16d",
   "metadata": {},
   "source": [
    "# App Usage Data SQL Queries"
   ]
  },
  {
   "cell_type": "markdown",
   "id": "5fdb649a-65d8-4c8a-a420-624d939e1b45",
   "metadata": {},
   "source": [
    "```sql\n",
    "CREATE TABLE users\n",
    "    id INTEGER PRIMARY KEY,\n",
    "    firstName VARCHAR(30) NOT NULL,\n",
    "    lastName VARCHAR(30) NOT NULL;\n",
    "\n",
    "CREATE TABLE sessions\n",
    "    id INTEGER PRIMARY KEY,\n",
    "    userId INTEGER NOT NULL FOREIGN KEY REFERENCES users(id),\n",
    "    duration DECIMAL NOT NULL;\n",
    "\n",
    "CREATE TABLE transactions\n",
    "    id INTEGER PRIMARY KEY,\n",
    "    userId INTEGER NOT NULL FOREIGN KEY REFERENCES users(id)\n",
    "    productId INTEGER,\n",
    "    originDate TIMESTAMP DEFAULT CURRENT_TIMESTAMP,\n",
    "    description VARCHAR(30),\n",
    "    qty DECIMAL;\n",
    "```\n",
    "\n",
    "#### User data and their app usage data are kept in the tables above. Each user can have multiple sessions. \n",
    "#### Write a SQL query that: \n",
    " - selects the ‘userIds’ with the top 50 average session durations\n",
    " - selects their full name from the user table as a single new column\n",
    "\n",
    "<b> Your query or pseudo query here: </b>"
   ]
  },
  {
   "cell_type": "markdown",
   "id": "0aa0270e-fb4b-4a53-ae6b-72b372d01f30",
   "metadata": {},
   "source": [
    "```sql\n",
    "WITH avg_duration AS (\n",
    "    SELECT \n",
    "        userId,\n",
    "        AVG(duration) AS average_duration\n",
    "    FROM \n",
    "        sessions\n",
    "    GROUP BY \n",
    "        userId\n",
    ")\n",
    "\n",
    "SELECT \n",
    "    avg_duration.UserId, \n",
    "    CONCAT(users.firstName, ' ', users.lastName) AS 'Full Name'\n",
    "FROM \n",
    "    avg_duration \n",
    "INNER JOIN \n",
    "    users ON users.id = avg_duration.userId \n",
    "ORDER BY \n",
    "    avg_duration.average_duration DESC\n",
    "LIMIT 50 \n",
    "```\n",
    "\n",
    "\n",
    "Returns: \n",
    "\n",
    "```\n",
    "userId | Full Name\n",
    "------------------\n",
    "5      | Sam Smith\n",
    "2      | Sara Johnson \n",
    "```"
   ]
  },
  {
   "cell_type": "markdown",
   "id": "2e79efa6-7741-4039-b85e-d361b824e7be",
   "metadata": {},
   "source": [
    "### Bonus:  \n",
    "<b> Add in a new column for each user and flagging their 3rd longest duration with 1, otherwise put 0 (put 0 if they have fewer than 3 sessions) </b>\n"
   ]
  },
  {
   "cell_type": "markdown",
   "id": "f9985775-5e93-432f-9ab9-2beff8f147fe",
   "metadata": {},
   "source": [
    "```sql \n",
    "WITH tmp_table AS (\n",
    "  SELECT \n",
    "\tsessions.*,\n",
    "    DENSE_RANK() OVER(PARTITION BY userId ORDER BY duration) AS ranking\n",
    "FROM \n",
    "\tsessions\n",
    ")\n",
    "   \n",
    "SELECT \n",
    "\tid,\n",
    "    userId,\n",
    "    duration,\n",
    "    (CASE \n",
    "     \tWHEN ranking = 3 THEN 1 \n",
    "       \tELSE 0 \n",
    "     END) AS 'Third_longest_dur_flag'\n",
    "FROM\n",
    "\ttmp_table\n",
    "```\n",
    "\n",
    "Returns: \n",
    "\n",
    "```\n",
    "id | userId | Duration | Third_longest_dur_flag\n",
    "---------------------------------------------\n",
    "1  |   5    |    25    |     0\n",
    "2  |   5    |    26    |     0\n",
    "3  |   5    |    27    |     1\n",
    "4  |   5    |    28    |     0\n",
    "```"
   ]
  }
 ],
 "metadata": {
  "kernelspec": {
   "display_name": "Python 3",
   "language": "python",
   "name": "python3"
  },
  "language_info": {
   "codemirror_mode": {
    "name": "ipython",
    "version": 3
   },
   "file_extension": ".py",
   "mimetype": "text/x-python",
   "name": "python",
   "nbconvert_exporter": "python",
   "pygments_lexer": "ipython3",
   "version": "3.9.2"
  }
 },
 "nbformat": 4,
 "nbformat_minor": 5
}
