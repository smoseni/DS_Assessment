{
 "cells": [
  {
   "cell_type": "markdown",
   "id": "e503866c-204e-4611-a2da-2c2861865a0e",
   "metadata": {},
   "source": [
    "# Predicting Water Potability"
   ]
  },
  {
   "cell_type": "code",
   "execution_count": 1,
   "id": "fd373413-b628-4aaa-a400-897abcc9b40e",
   "metadata": {},
   "outputs": [],
   "source": [
    "import pandas as pd\n",
    "import numpy as np\n",
    "import matplotlib.pyplot as plt\n",
    "\n",
    "from sklearn.impute import SimpleImputer\n",
    "from sklearn.model_selection import train_test_split\n",
    "from sklearn.ensemble import RandomForestClassifier\n",
    "from sklearn.linear_model import LogisticRegression\n",
    "from sklearn.ensemble import GradientBoostingClassifier\n",
    "from sklearn.metrics import average_precision_score\n",
    "from sklearn.metrics import precision_recall_curve\n",
    "from sklearn.metrics import plot_precision_recall_curve"
   ]
  },
  {
   "cell_type": "code",
   "execution_count": 2,
   "id": "07cc0ec3-25c6-46fc-9e4f-843bb372e828",
   "metadata": {},
   "outputs": [],
   "source": [
    "safe_water_df = pd.read_csv('water_potability.csv')"
   ]
  },
  {
   "cell_type": "code",
   "execution_count": 3,
   "id": "84256be5-3412-4df6-b12f-5404359f3b5b",
   "metadata": {},
   "outputs": [
    {
     "data": {
      "text/html": [
       "<div>\n",
       "<style scoped>\n",
       "    .dataframe tbody tr th:only-of-type {\n",
       "        vertical-align: middle;\n",
       "    }\n",
       "\n",
       "    .dataframe tbody tr th {\n",
       "        vertical-align: top;\n",
       "    }\n",
       "\n",
       "    .dataframe thead th {\n",
       "        text-align: right;\n",
       "    }\n",
       "</style>\n",
       "<table border=\"1\" class=\"dataframe\">\n",
       "  <thead>\n",
       "    <tr style=\"text-align: right;\">\n",
       "      <th></th>\n",
       "      <th>ph</th>\n",
       "      <th>Hardness</th>\n",
       "      <th>Solids</th>\n",
       "      <th>Chloramines</th>\n",
       "      <th>Sulfate</th>\n",
       "      <th>Conductivity</th>\n",
       "      <th>Organic_carbon</th>\n",
       "      <th>Trihalomethanes</th>\n",
       "      <th>Turbidity</th>\n",
       "      <th>Potability</th>\n",
       "    </tr>\n",
       "  </thead>\n",
       "  <tbody>\n",
       "    <tr>\n",
       "      <th>0</th>\n",
       "      <td>NaN</td>\n",
       "      <td>204.890455</td>\n",
       "      <td>20791.318981</td>\n",
       "      <td>7.300212</td>\n",
       "      <td>368.516441</td>\n",
       "      <td>564.308654</td>\n",
       "      <td>10.379783</td>\n",
       "      <td>86.990970</td>\n",
       "      <td>2.963135</td>\n",
       "      <td>0</td>\n",
       "    </tr>\n",
       "    <tr>\n",
       "      <th>1</th>\n",
       "      <td>3.716080</td>\n",
       "      <td>129.422921</td>\n",
       "      <td>18630.057858</td>\n",
       "      <td>6.635246</td>\n",
       "      <td>NaN</td>\n",
       "      <td>592.885359</td>\n",
       "      <td>15.180013</td>\n",
       "      <td>56.329076</td>\n",
       "      <td>4.500656</td>\n",
       "      <td>0</td>\n",
       "    </tr>\n",
       "    <tr>\n",
       "      <th>2</th>\n",
       "      <td>8.099124</td>\n",
       "      <td>224.236259</td>\n",
       "      <td>19909.541732</td>\n",
       "      <td>9.275884</td>\n",
       "      <td>NaN</td>\n",
       "      <td>418.606213</td>\n",
       "      <td>16.868637</td>\n",
       "      <td>66.420093</td>\n",
       "      <td>3.055934</td>\n",
       "      <td>0</td>\n",
       "    </tr>\n",
       "    <tr>\n",
       "      <th>3</th>\n",
       "      <td>8.316766</td>\n",
       "      <td>214.373394</td>\n",
       "      <td>22018.417441</td>\n",
       "      <td>8.059332</td>\n",
       "      <td>356.886136</td>\n",
       "      <td>363.266516</td>\n",
       "      <td>18.436524</td>\n",
       "      <td>100.341674</td>\n",
       "      <td>4.628771</td>\n",
       "      <td>0</td>\n",
       "    </tr>\n",
       "    <tr>\n",
       "      <th>4</th>\n",
       "      <td>9.092223</td>\n",
       "      <td>181.101509</td>\n",
       "      <td>17978.986339</td>\n",
       "      <td>6.546600</td>\n",
       "      <td>310.135738</td>\n",
       "      <td>398.410813</td>\n",
       "      <td>11.558279</td>\n",
       "      <td>31.997993</td>\n",
       "      <td>4.075075</td>\n",
       "      <td>0</td>\n",
       "    </tr>\n",
       "  </tbody>\n",
       "</table>\n",
       "</div>"
      ],
      "text/plain": [
       "         ph    Hardness        Solids  Chloramines     Sulfate  Conductivity  \\\n",
       "0       NaN  204.890455  20791.318981     7.300212  368.516441    564.308654   \n",
       "1  3.716080  129.422921  18630.057858     6.635246         NaN    592.885359   \n",
       "2  8.099124  224.236259  19909.541732     9.275884         NaN    418.606213   \n",
       "3  8.316766  214.373394  22018.417441     8.059332  356.886136    363.266516   \n",
       "4  9.092223  181.101509  17978.986339     6.546600  310.135738    398.410813   \n",
       "\n",
       "   Organic_carbon  Trihalomethanes  Turbidity  Potability  \n",
       "0       10.379783        86.990970   2.963135           0  \n",
       "1       15.180013        56.329076   4.500656           0  \n",
       "2       16.868637        66.420093   3.055934           0  \n",
       "3       18.436524       100.341674   4.628771           0  \n",
       "4       11.558279        31.997993   4.075075           0  "
      ]
     },
     "execution_count": 3,
     "metadata": {},
     "output_type": "execute_result"
    }
   ],
   "source": [
    "safe_water_df.head()"
   ]
  },
  {
   "cell_type": "markdown",
   "id": "f9d3fba0-a0b6-43da-8493-a320bd05f657",
   "metadata": {},
   "source": [
    "## Check value counts to see if classes are balanced"
   ]
  },
  {
   "cell_type": "code",
   "execution_count": 4,
   "id": "289d7eb4-417b-4b95-ab81-6b2a8872ed3f",
   "metadata": {},
   "outputs": [
    {
     "data": {
      "text/plain": [
       "0    1998\n",
       "1    1278\n",
       "Name: Potability, dtype: int64"
      ]
     },
     "execution_count": 4,
     "metadata": {},
     "output_type": "execute_result"
    }
   ],
   "source": [
    "safe_water_df.Potability.value_counts()"
   ]
  },
  {
   "cell_type": "markdown",
   "id": "361f6296-9f3f-4bfc-8e5c-06c9badf63dc",
   "metadata": {},
   "source": [
    "## Check for missingness"
   ]
  },
  {
   "cell_type": "code",
   "execution_count": 5,
   "id": "32001d5e-d041-442f-824a-c743a1152826",
   "metadata": {},
   "outputs": [
    {
     "data": {
      "text/plain": [
       "ph                  True\n",
       "Hardness           False\n",
       "Solids             False\n",
       "Chloramines        False\n",
       "Sulfate             True\n",
       "Conductivity       False\n",
       "Organic_carbon     False\n",
       "Trihalomethanes     True\n",
       "Turbidity          False\n",
       "Potability         False\n",
       "dtype: bool"
      ]
     },
     "execution_count": 5,
     "metadata": {},
     "output_type": "execute_result"
    }
   ],
   "source": [
    "safe_water_df.isna().any()"
   ]
  },
  {
   "cell_type": "code",
   "execution_count": 6,
   "id": "8c6f78c1-378b-4fda-a14e-85ced4b11038",
   "metadata": {},
   "outputs": [
    {
     "name": "stdout",
     "output_type": "stream",
     "text": [
      "pH % missing =  0.15\n",
      "Sulphate % missing =  0.24\n",
      "Trihalomethanes % missing =  0.05\n"
     ]
    }
   ],
   "source": [
    "print(\"pH % missing = \", round(len(safe_water_df[safe_water_df.ph.isnull()]) /len(safe_water_df),2))\n",
    "print(\"Sulphate % missing = \", round(len(safe_water_df[safe_water_df.Sulfate.isnull()]) /len(safe_water_df),2))\n",
    "print(\"Trihalomethanes % missing = \", round(len(safe_water_df[safe_water_df.Trihalomethanes.isnull()]) /len(safe_water_df),2))"
   ]
  },
  {
   "cell_type": "markdown",
   "id": "83690176-8b1e-426a-a7ca-a5460fedd0d0",
   "metadata": {},
   "source": [
    "### Impute data to handle NaNs"
   ]
  },
  {
   "cell_type": "code",
   "execution_count": 7,
   "id": "8a3fa81a-8c9e-4315-b3dc-a566eb2089e9",
   "metadata": {},
   "outputs": [],
   "source": [
    "# Note: To ensure we do not overfit, we must train the imputer on only the training set, then we can fit it on the entire dataset.\n",
    "\n",
    "X = safe_water_df.drop(['Potability'], axis = 1)\n",
    "y = safe_water_df.Potability\n",
    "\n",
    "X_train, X_test, y_train, y_test = train_test_split(X, y, test_size=0.20, random_state=0)"
   ]
  },
  {
   "cell_type": "code",
   "execution_count": 8,
   "id": "29d8f1ee-ec9d-4fef-b5c1-db9097248d53",
   "metadata": {},
   "outputs": [],
   "source": [
    "imp_mean = SimpleImputer(missing_values=np.nan, strategy='mean')\n",
    "imp_mean.fit(X_train)\n",
    "imputed_data = imp_mean.transform(safe_water_df.iloc[:,:-1])"
   ]
  },
  {
   "cell_type": "code",
   "execution_count": 9,
   "id": "5ae3223d-3461-42cb-ac5e-881c2bdf1030",
   "metadata": {},
   "outputs": [],
   "source": [
    "tmp_df = pd.DataFrame(data = imputed_data, columns = safe_water_df.columns[:-1] )\n",
    "tmp_df['Potability'] = safe_water_df.Potability\n",
    "safe_water_df = tmp_df.copy()"
   ]
  },
  {
   "cell_type": "code",
   "execution_count": 10,
   "id": "aa1319b6-965f-4b18-aaa8-4c8b7d3bc743",
   "metadata": {},
   "outputs": [
    {
     "data": {
      "text/html": [
       "<div>\n",
       "<style scoped>\n",
       "    .dataframe tbody tr th:only-of-type {\n",
       "        vertical-align: middle;\n",
       "    }\n",
       "\n",
       "    .dataframe tbody tr th {\n",
       "        vertical-align: top;\n",
       "    }\n",
       "\n",
       "    .dataframe thead th {\n",
       "        text-align: right;\n",
       "    }\n",
       "</style>\n",
       "<table border=\"1\" class=\"dataframe\">\n",
       "  <thead>\n",
       "    <tr style=\"text-align: right;\">\n",
       "      <th></th>\n",
       "      <th>ph</th>\n",
       "      <th>Hardness</th>\n",
       "      <th>Solids</th>\n",
       "      <th>Chloramines</th>\n",
       "      <th>Sulfate</th>\n",
       "      <th>Conductivity</th>\n",
       "      <th>Organic_carbon</th>\n",
       "      <th>Trihalomethanes</th>\n",
       "      <th>Turbidity</th>\n",
       "      <th>Potability</th>\n",
       "    </tr>\n",
       "  </thead>\n",
       "  <tbody>\n",
       "    <tr>\n",
       "      <th>0</th>\n",
       "      <td>7.080687</td>\n",
       "      <td>204.890455</td>\n",
       "      <td>20791.318981</td>\n",
       "      <td>7.300212</td>\n",
       "      <td>368.516441</td>\n",
       "      <td>564.308654</td>\n",
       "      <td>10.379783</td>\n",
       "      <td>86.990970</td>\n",
       "      <td>2.963135</td>\n",
       "      <td>0</td>\n",
       "    </tr>\n",
       "    <tr>\n",
       "      <th>1</th>\n",
       "      <td>3.716080</td>\n",
       "      <td>129.422921</td>\n",
       "      <td>18630.057858</td>\n",
       "      <td>6.635246</td>\n",
       "      <td>333.395374</td>\n",
       "      <td>592.885359</td>\n",
       "      <td>15.180013</td>\n",
       "      <td>56.329076</td>\n",
       "      <td>4.500656</td>\n",
       "      <td>0</td>\n",
       "    </tr>\n",
       "    <tr>\n",
       "      <th>2</th>\n",
       "      <td>8.099124</td>\n",
       "      <td>224.236259</td>\n",
       "      <td>19909.541732</td>\n",
       "      <td>9.275884</td>\n",
       "      <td>333.395374</td>\n",
       "      <td>418.606213</td>\n",
       "      <td>16.868637</td>\n",
       "      <td>66.420093</td>\n",
       "      <td>3.055934</td>\n",
       "      <td>0</td>\n",
       "    </tr>\n",
       "    <tr>\n",
       "      <th>3</th>\n",
       "      <td>8.316766</td>\n",
       "      <td>214.373394</td>\n",
       "      <td>22018.417441</td>\n",
       "      <td>8.059332</td>\n",
       "      <td>356.886136</td>\n",
       "      <td>363.266516</td>\n",
       "      <td>18.436524</td>\n",
       "      <td>100.341674</td>\n",
       "      <td>4.628771</td>\n",
       "      <td>0</td>\n",
       "    </tr>\n",
       "    <tr>\n",
       "      <th>4</th>\n",
       "      <td>9.092223</td>\n",
       "      <td>181.101509</td>\n",
       "      <td>17978.986339</td>\n",
       "      <td>6.546600</td>\n",
       "      <td>310.135738</td>\n",
       "      <td>398.410813</td>\n",
       "      <td>11.558279</td>\n",
       "      <td>31.997993</td>\n",
       "      <td>4.075075</td>\n",
       "      <td>0</td>\n",
       "    </tr>\n",
       "  </tbody>\n",
       "</table>\n",
       "</div>"
      ],
      "text/plain": [
       "         ph    Hardness        Solids  Chloramines     Sulfate  Conductivity  \\\n",
       "0  7.080687  204.890455  20791.318981     7.300212  368.516441    564.308654   \n",
       "1  3.716080  129.422921  18630.057858     6.635246  333.395374    592.885359   \n",
       "2  8.099124  224.236259  19909.541732     9.275884  333.395374    418.606213   \n",
       "3  8.316766  214.373394  22018.417441     8.059332  356.886136    363.266516   \n",
       "4  9.092223  181.101509  17978.986339     6.546600  310.135738    398.410813   \n",
       "\n",
       "   Organic_carbon  Trihalomethanes  Turbidity  Potability  \n",
       "0       10.379783        86.990970   2.963135           0  \n",
       "1       15.180013        56.329076   4.500656           0  \n",
       "2       16.868637        66.420093   3.055934           0  \n",
       "3       18.436524       100.341674   4.628771           0  \n",
       "4       11.558279        31.997993   4.075075           0  "
      ]
     },
     "execution_count": 10,
     "metadata": {},
     "output_type": "execute_result"
    }
   ],
   "source": [
    "safe_water_df.head()"
   ]
  },
  {
   "cell_type": "code",
   "execution_count": 11,
   "id": "4a20f18e-3001-4967-996f-f9f22a3c7803",
   "metadata": {},
   "outputs": [
    {
     "data": {
      "text/plain": [
       "ph                 False\n",
       "Hardness           False\n",
       "Solids             False\n",
       "Chloramines        False\n",
       "Sulfate            False\n",
       "Conductivity       False\n",
       "Organic_carbon     False\n",
       "Trihalomethanes    False\n",
       "Turbidity          False\n",
       "Potability         False\n",
       "dtype: bool"
      ]
     },
     "execution_count": 11,
     "metadata": {},
     "output_type": "execute_result"
    }
   ],
   "source": [
    "safe_water_df.isna().any()"
   ]
  },
  {
   "cell_type": "markdown",
   "id": "5d527709-b0c0-4e8f-8f68-b5612410c4af",
   "metadata": {},
   "source": [
    "## We no longer have missing data! (: "
   ]
  },
  {
   "cell_type": "markdown",
   "id": "fdf89ea1-4a69-4e57-a188-6a9d2b5631b3",
   "metadata": {},
   "source": [
    "## Let's standardize our data to simplify model fitting"
   ]
  },
  {
   "cell_type": "code",
   "execution_count": 12,
   "id": "8d30f7de-203a-473d-a5d9-04d4f53d72e9",
   "metadata": {},
   "outputs": [],
   "source": [
    "from sklearn.preprocessing import MinMaxScaler\n",
    "\n",
    "scaler = MinMaxScaler()\n",
    "scaler.fit(safe_water_df)\n",
    "scaled_data = scaler.transform(safe_water_df)\n",
    "scaled_safe_water_df = pd.DataFrame(scaled_data, columns=safe_water_df.columns)"
   ]
  },
  {
   "cell_type": "code",
   "execution_count": 13,
   "id": "33107b3d-a138-4d9d-952e-4247849c77cf",
   "metadata": {},
   "outputs": [
    {
     "data": {
      "text/html": [
       "<div>\n",
       "<style scoped>\n",
       "    .dataframe tbody tr th:only-of-type {\n",
       "        vertical-align: middle;\n",
       "    }\n",
       "\n",
       "    .dataframe tbody tr th {\n",
       "        vertical-align: top;\n",
       "    }\n",
       "\n",
       "    .dataframe thead th {\n",
       "        text-align: right;\n",
       "    }\n",
       "</style>\n",
       "<table border=\"1\" class=\"dataframe\">\n",
       "  <thead>\n",
       "    <tr style=\"text-align: right;\">\n",
       "      <th></th>\n",
       "      <th>ph</th>\n",
       "      <th>Hardness</th>\n",
       "      <th>Solids</th>\n",
       "      <th>Chloramines</th>\n",
       "      <th>Sulfate</th>\n",
       "      <th>Conductivity</th>\n",
       "      <th>Organic_carbon</th>\n",
       "      <th>Trihalomethanes</th>\n",
       "      <th>Turbidity</th>\n",
       "      <th>Potability</th>\n",
       "    </tr>\n",
       "  </thead>\n",
       "  <tbody>\n",
       "    <tr>\n",
       "      <th>0</th>\n",
       "      <td>0.505763</td>\n",
       "      <td>0.571139</td>\n",
       "      <td>0.336096</td>\n",
       "      <td>0.543891</td>\n",
       "      <td>0.680385</td>\n",
       "      <td>0.669439</td>\n",
       "      <td>0.313402</td>\n",
       "      <td>0.699753</td>\n",
       "      <td>0.286091</td>\n",
       "      <td>0.0</td>\n",
       "    </tr>\n",
       "    <tr>\n",
       "      <th>1</th>\n",
       "      <td>0.265434</td>\n",
       "      <td>0.297400</td>\n",
       "      <td>0.300611</td>\n",
       "      <td>0.491839</td>\n",
       "      <td>0.580618</td>\n",
       "      <td>0.719411</td>\n",
       "      <td>0.497319</td>\n",
       "      <td>0.450999</td>\n",
       "      <td>0.576793</td>\n",
       "      <td>0.0</td>\n",
       "    </tr>\n",
       "    <tr>\n",
       "      <th>2</th>\n",
       "      <td>0.578509</td>\n",
       "      <td>0.641311</td>\n",
       "      <td>0.321619</td>\n",
       "      <td>0.698543</td>\n",
       "      <td>0.580618</td>\n",
       "      <td>0.414652</td>\n",
       "      <td>0.562017</td>\n",
       "      <td>0.532866</td>\n",
       "      <td>0.303637</td>\n",
       "      <td>0.0</td>\n",
       "    </tr>\n",
       "    <tr>\n",
       "      <th>3</th>\n",
       "      <td>0.594055</td>\n",
       "      <td>0.605536</td>\n",
       "      <td>0.356244</td>\n",
       "      <td>0.603314</td>\n",
       "      <td>0.647347</td>\n",
       "      <td>0.317880</td>\n",
       "      <td>0.622089</td>\n",
       "      <td>0.808065</td>\n",
       "      <td>0.601015</td>\n",
       "      <td>0.0</td>\n",
       "    </tr>\n",
       "    <tr>\n",
       "      <th>4</th>\n",
       "      <td>0.649445</td>\n",
       "      <td>0.484851</td>\n",
       "      <td>0.289922</td>\n",
       "      <td>0.484900</td>\n",
       "      <td>0.514545</td>\n",
       "      <td>0.379337</td>\n",
       "      <td>0.358555</td>\n",
       "      <td>0.253606</td>\n",
       "      <td>0.496327</td>\n",
       "      <td>0.0</td>\n",
       "    </tr>\n",
       "  </tbody>\n",
       "</table>\n",
       "</div>"
      ],
      "text/plain": [
       "         ph  Hardness    Solids  Chloramines   Sulfate  Conductivity  \\\n",
       "0  0.505763  0.571139  0.336096     0.543891  0.680385      0.669439   \n",
       "1  0.265434  0.297400  0.300611     0.491839  0.580618      0.719411   \n",
       "2  0.578509  0.641311  0.321619     0.698543  0.580618      0.414652   \n",
       "3  0.594055  0.605536  0.356244     0.603314  0.647347      0.317880   \n",
       "4  0.649445  0.484851  0.289922     0.484900  0.514545      0.379337   \n",
       "\n",
       "   Organic_carbon  Trihalomethanes  Turbidity  Potability  \n",
       "0        0.313402         0.699753   0.286091         0.0  \n",
       "1        0.497319         0.450999   0.576793         0.0  \n",
       "2        0.562017         0.532866   0.303637         0.0  \n",
       "3        0.622089         0.808065   0.601015         0.0  \n",
       "4        0.358555         0.253606   0.496327         0.0  "
      ]
     },
     "execution_count": 13,
     "metadata": {},
     "output_type": "execute_result"
    }
   ],
   "source": [
    "scaled_safe_water_df.head()"
   ]
  },
  {
   "cell_type": "markdown",
   "id": "6c35b82d-ed18-49e5-92e3-1a1163cba9cb",
   "metadata": {},
   "source": [
    "## Fit the model"
   ]
  },
  {
   "cell_type": "code",
   "execution_count": 14,
   "id": "cf0183b7-3ae8-41b6-8520-d419303d8cb1",
   "metadata": {},
   "outputs": [],
   "source": [
    "# Prep Data\n",
    "\n",
    "X = scaled_safe_water_df.drop(['Potability'], axis = 1)\n",
    "y = scaled_safe_water_df.Potability\n",
    "\n",
    "X_train, X_test, y_train, y_test = train_test_split(X, y, test_size=0.20, random_state=0)\n"
   ]
  },
  {
   "cell_type": "code",
   "execution_count": 15,
   "id": "90d904ad-6dee-446e-bb00-988801b2e7ed",
   "metadata": {},
   "outputs": [],
   "source": [
    "# Fit out models here\n",
    "\n",
    "logReg = LogisticRegression(random_state=0).fit(X, y)\n",
    "RF = RandomForestClassifier(max_depth=2, random_state=0).fit(X,y)\n",
    "GB = GradientBoostingClassifier(n_estimators=100, learning_rate=1.0, \n",
    "                                max_depth=1, random_state=0).fit(X_train, y_train)\n",
    "\n",
    "classifiers = list(zip(['Logistic Regression', 'Random Forest Classifier', 'Gradient Boosted Classifier'],\n",
    "                       [logReg, RF, GB]))"
   ]
  },
  {
   "cell_type": "code",
   "execution_count": 16,
   "id": "099ca48a-34bb-4b6b-8854-f736d117dcaa",
   "metadata": {},
   "outputs": [
    {
     "name": "stdout",
     "output_type": "stream",
     "text": [
      "Logistic Regression\n",
      "Train score: 0.605\n",
      "Test score: 0.628\n",
      "Avg Precision Score 0.416\n",
      "\n",
      "Random Forest Classifier\n",
      "Train score: 0.624\n",
      "Test score: 0.639\n",
      "Avg Precision Score 0.519\n",
      "\n",
      "Gradient Boosted Classifier\n",
      "Train score: 0.673\n",
      "Test score: 0.623\n",
      "Avg Precision Score 0.45\n",
      "\n"
     ]
    }
   ],
   "source": [
    "for mtype, model in classifiers:\n",
    "    \n",
    "    print(f'{mtype}')\n",
    "    print(f'Train score: {round(model.score(X_train, y_train), 3)}')\n",
    "    print(f'Test score: {round(model.score(X_test, y_test), 3)}')\n",
    "    \n",
    "    probs = model.predict_proba(X_test)[:,1]\n",
    "    score = average_precision_score(y_test, probs)\n",
    "    print(f'Avg Precision Score {round(score, 3)}' )\n",
    "    print('')"
   ]
  },
  {
   "cell_type": "markdown",
   "id": "d781f403-0bf9-4a23-b54b-d3340d17ff02",
   "metadata": {},
   "source": [
    "## Plot the PR-Curve"
   ]
  },
  {
   "cell_type": "code",
   "execution_count": 17,
   "id": "04d96c24-30b5-4b1c-8eff-2bfd1b70c365",
   "metadata": {},
   "outputs": [
    {
     "data": {
      "image/png": "[encoded data removed]",
      "text/plain": [
       "<Figure size 432x288 with 1 Axes>"
      ]
     },
     "metadata": {
      "needs_background": "light"
     },
     "output_type": "display_data"
    }
   ],
   "source": [
    "fig = plt.figure()\n",
    "ax = fig.gca()\n",
    "ax.set_title('2-class Precision-Recall curve: Compare Models')\n",
    "\n",
    "for mtype, model in classifiers:\n",
    "    disp = plot_precision_recall_curve(model, X_test, y_test, ax=ax)"
   ]
  },
  {
   "cell_type": "code",
   "execution_count": 18,
   "id": "5f183710-01da-4966-9973-2dd4543f2f8f",
   "metadata": {},
   "outputs": [],
   "source": [
    "# Save out graph\n",
    "\n",
    "fig.savefig('Potability_PR_Curve.jpg')"
   ]
  },
  {
   "cell_type": "markdown",
   "id": "e81b70dd-cf58-47c6-8e81-1b85a666151e",
   "metadata": {},
   "source": [
    "### The Random Forest Model appears to be the optimal model here based on the PR-Curve."
   ]
  }
 ],
 "metadata": {
  "kernelspec": {
   "display_name": "Python 3",
   "language": "python",
   "name": "python3"
  },
  "language_info": {
   "codemirror_mode": {
    "name": "ipython",
    "version": 3
   },
   "file_extension": ".py",
   "mimetype": "text/x-python",
   "name": "python",
   "nbconvert_exporter": "python",
   "pygments_lexer": "ipython3",
   "version": "3.9.2"
  }
 },
 "nbformat": 4,
 "nbformat_minor": 5
}
